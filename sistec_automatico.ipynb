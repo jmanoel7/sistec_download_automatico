{
 "cells": [
  {
   "cell_type": "code",
   "execution_count": 1,
   "id": "cedb85f5-d702-4dac-807a-13c6990d190a",
   "metadata": {},
   "outputs": [],
   "source": [
    "import re\n",
    "from time import sleep\n",
    "from selenium.webdriver.common.by import By\n",
    "from selenium.webdriver.support.select import Select\n",
    "from selenium.common.exceptions import NoSuchElementException\n",
    "from browser import get_browser"
   ]
  },
  {
   "cell_type": "code",
   "execution_count": 2,
   "id": "8568cfbe-b27c-4d8a-bf3b-f0692dd01cae",
   "metadata": {},
   "outputs": [
    {
     "name": "stdout",
     "output_type": "stream",
     "text": [
      "<selenium.webdriver.remote.webelement.WebElement (session=\"a0c17514-c4eb-4dc0-bcea-edc429e10752\", element=\"aef3e6ac-821a-4f2e-b22f-5fd2c6b81f3f\")>\n",
      "--------------------------------------------------------------------------------\n",
      "<selenium.webdriver.support.select.Select object at 0x7f835c0a9520>\n",
      "================================================================================\n",
      "{'name': 'PHPSESSID', 'value': 'b6nq542tletja17mo6kr47qtaied0413', 'path': '/', 'domain': 'sistec.mec.gov.br', 'secure': False, 'httpOnly': False, 'sameSite': 'None'}\n"
     ]
    }
   ],
   "source": [
    "time1 = 10\n",
    "time2 = 2\n",
    "get_browser().get('https://sistec.mec.gov.br/')\n",
    "sleep(time1)\n",
    "xpath = '//*[@id=\"tipo\"]'\n",
    "while True:\n",
    "    try:\n",
    "        select_element = get_browser().find_element(By.XPATH, xpath)\n",
    "    except NoSuchElementException:\n",
    "        sleep(time2)\n",
    "        continue\n",
    "    break\n",
    "select_object = Select(select_element)\n",
    "print(select_element)\n",
    "print('--------------------------------------------------------------------------------')\n",
    "print(select_object)\n",
    "print('================================================================================')\n",
    "cookie_phpsessid = get_browser().get_cookie('PHPSESSID')\n",
    "print(cookie_phpsessid)"
   ]
  },
  {
   "cell_type": "code",
   "execution_count": 7,
   "id": "c7eeb6bd-26a2-49a2-a44c-a79e64b93929",
   "metadata": {},
   "outputs": [],
   "source": [
    "a = get_browser().find_element(By.XPATH, '//*[@id=\"enviardados\"]')"
   ]
  },
  {
   "cell_type": "code",
   "execution_count": 9,
   "id": "37de7e08-ea46-4c68-bf24-8cbb97e2406a",
   "metadata": {},
   "outputs": [
    {
     "data": {
      "text/plain": [
       "'<input type=\"submit\" value=\"Acessar\" id=\"enviardados\" class=\"botao inputButton\">'"
      ]
     },
     "execution_count": 9,
     "metadata": {},
     "output_type": "execute_result"
    }
   ],
   "source": [
    "a.get_property('outerHTML')"
   ]
  },
  {
   "cell_type": "code",
   "execution_count": 23,
   "id": "6468e6d5-90c4-446b-8c25-a7ff16289b08",
   "metadata": {},
   "outputs": [],
   "source": [
    "b = select_element.get_property('outerHTML')"
   ]
  },
  {
   "cell_type": "code",
   "execution_count": 25,
   "id": "9fe7e821-a7a6-46ec-a844-5f27ea71bf3b",
   "metadata": {},
   "outputs": [
    {
     "data": {
      "text/plain": [
       "str"
      ]
     },
     "execution_count": 25,
     "metadata": {},
     "output_type": "execute_result"
    }
   ],
   "source": [
    "type(b)"
   ]
  },
  {
   "cell_type": "code",
   "execution_count": 27,
   "id": "aa6d5a0b-9bbe-4fd0-9f17-b04465780b0e",
   "metadata": {},
   "outputs": [
    {
     "name": "stdout",
     "output_type": "stream",
     "text": [
      "<select name=\"tipo\" id=\"tipo\">\n",
      "\t\t\t\t\t<option title=\"Selecione\" value=\"\">Selecione...</option><option title=\"GESTOR DA UNIDADE DE ENSINO - INSTITUTO FEDERAL DE GOIÁS - CAMPUS ANÁPOLIS\" value=\"1660636\">GESTOR DA UNIDADE DE ENSINO - INSTITUTO FEDERAL DE GOIÁS - CAMPUS ANÁPOLIS</option>\n",
      "<option title=\"GESTOR DA UNIDADE DE ENSINO - INSTITUTO FEDERAL DE GOIÁS - CAMPUS APARECIDA DE GOIÂNIA\" value=\"1660641\">GESTOR DA UNIDADE DE ENSINO - INSTITUTO FEDERAL DE GOIÁS - CAMPUS APARECIDA DE GOIÂNIA</option>\n",
      "<option title=\"GESTOR DA UNIDADE DE ENSINO - INSTITUTO FEDERAL DE GOIÁS - CAMPUS CIDADE DE GOIÁS\" value=\"1660637\">GESTOR DA UNIDADE DE ENSINO - INSTITUTO FEDERAL DE GOIÁS - CAMPUS CIDADE DE GOIÁS</option>\n",
      "<option title=\"GESTOR DA UNIDADE DE ENSINO - INSTITUTO FEDERAL DE GOIÁS - CAMPUS FORMOSA\" value=\"1660650\">GESTOR DA UNIDADE DE ENSINO - INSTITUTO FEDERAL DE GOIÁS - CAMPUS FORMOSA</option>\n",
      "<option title=\"GESTOR DA UNIDADE DE ENSINO - INSTITUTO FEDERAL DE GOIÁS - CAMPUS GOIÂNIA\" value=\"1660652\">GESTOR DA UNIDADE DE ENSINO - INSTITUTO FEDERAL DE GOIÁS - CAMPUS GOIÂNIA</option>\n",
      "<option title=\"GESTOR DA UNIDADE DE ENSINO - INSTITUTO FEDERAL DE GOIÁS - CAMPUS GOIÂNIA OESTE\" value=\"1660653\">GESTOR DA UNIDADE DE ENSINO - INSTITUTO FEDERAL DE GOIÁS - CAMPUS GOIÂNIA OESTE</option>\n",
      "<option title=\"GESTOR DA UNIDADE DE ENSINO - INSTITUTO FEDERAL DE GOIÁS - CAMPUS INHUMAS\" value=\"1660662\">GESTOR DA UNIDADE DE ENSINO - INSTITUTO FEDERAL DE GOIÁS - CAMPUS INHUMAS</option>\n",
      "<option title=\"GESTOR DA UNIDADE DE ENSINO - INSTITUTO FEDERAL DE GOIÁS - CAMPUS ITUMBIARA\" value=\"1660663\">GESTOR DA UNIDADE DE ENSINO - INSTITUTO FEDERAL DE GOIÁS - CAMPUS ITUMBIARA</option>\n",
      "<option title=\"GESTOR DA UNIDADE DE ENSINO - INSTITUTO FEDERAL DE GOIÁS - CAMPUS JATAÍ\" value=\"1660664\">GESTOR DA UNIDADE DE ENSINO - INSTITUTO FEDERAL DE GOIÁS - CAMPUS JATAÍ</option>\n",
      "<option title=\"GESTOR DA UNIDADE DE ENSINO - INSTITUTO FEDERAL DE GOIÁS - CAMPUS LUZIÂNIA\" value=\"1660666\">GESTOR DA UNIDADE DE ENSINO - INSTITUTO FEDERAL DE GOIÁS - CAMPUS LUZIÂNIA</option>\n",
      "<option title=\"GESTOR DA UNIDADE DE ENSINO - INSTITUTO FEDERAL DE GOIÁS - CAMPUS SENADOR CANEDO\" value=\"1662833\">GESTOR DA UNIDADE DE ENSINO - INSTITUTO FEDERAL DE GOIÁS - CAMPUS SENADOR CANEDO</option>\n",
      "<option title=\"GESTOR DA UNIDADE DE ENSINO - INSTITUTO FEDERAL DE GOIÁS - CAMPUS URUAÇU\" value=\"1660667\">GESTOR DA UNIDADE DE ENSINO - INSTITUTO FEDERAL DE GOIÁS - CAMPUS URUAÇU</option>\n",
      "<option title=\"GESTOR DA UNIDADE DE ENSINO - INSTITUTO FEDERAL DE GOIÁS - CAMPUS VALPARAÍSO DE GOIÁS\" value=\"1660669\">GESTOR DA UNIDADE DE ENSINO - INSTITUTO FEDERAL DE GOIÁS - CAMPUS VALPARAÍSO DE GOIÁS</option>\n",
      "<option title=\"GESTOR DA UNIDADE DE ENSINO - INSTITUTO FEDERAL DE GOIÁS CAMPUS ÁGUAS LINDAS DE GOIÁS\" value=\"1660670\">GESTOR DA UNIDADE DE ENSINO - INSTITUTO FEDERAL DE GOIÁS CAMPUS ÁGUAS LINDAS DE GOIÁS</option>\n",
      "\n",
      "\t\t\t\t</select>\n"
     ]
    }
   ],
   "source": [
    "print(b)"
   ]
  },
  {
   "cell_type": "code",
   "execution_count": 30,
   "id": "71dc9a13-5fca-4edf-9cfe-f8b792e90b8a",
   "metadata": {},
   "outputs": [],
   "source": [
    "f  = open('/home/joaomanoel/temp/sistec1.html', 'wb')"
   ]
  },
  {
   "cell_type": "code",
   "execution_count": 37,
   "id": "7206bcd0-8542-4abf-8e58-741f9d3fcb74",
   "metadata": {},
   "outputs": [
    {
     "data": {
      "text/plain": [
       "bytes"
      ]
     },
     "execution_count": 37,
     "metadata": {},
     "output_type": "execute_result"
    }
   ],
   "source": [
    "type(b)"
   ]
  },
  {
   "cell_type": "code",
   "execution_count": 32,
   "id": "15130774-dbb8-4fb3-a4c1-585e210fc7ee",
   "metadata": {},
   "outputs": [],
   "source": [
    "b = b.encode('utf-8')"
   ]
  },
  {
   "cell_type": "code",
   "execution_count": 34,
   "id": "9a3046e3-110d-4651-8bd6-086114f67203",
   "metadata": {},
   "outputs": [
    {
     "name": "stdout",
     "output_type": "stream",
     "text": [
      "b'<select name=\"tipo\" id=\"tipo\">\\n\\t\\t\\t\\t\\t<option title=\"Selecione\" value=\"\">Selecione...</option><option title=\"GESTOR DA UNIDADE DE ENSINO - INSTITUTO FEDERAL DE GOI\\xc3\\x81S - CAMPUS AN\\xc3\\x81POLIS\" value=\"1660636\">GESTOR DA UNIDADE DE ENSINO - INSTITUTO FEDERAL DE GOI\\xc3\\x81S - CAMPUS AN\\xc3\\x81POLIS</option>\\n<option title=\"GESTOR DA UNIDADE DE ENSINO - INSTITUTO FEDERAL DE GOI\\xc3\\x81S - CAMPUS APARECIDA DE GOI\\xc3\\x82NIA\" value=\"1660641\">GESTOR DA UNIDADE DE ENSINO - INSTITUTO FEDERAL DE GOI\\xc3\\x81S - CAMPUS APARECIDA DE GOI\\xc3\\x82NIA</option>\\n<option title=\"GESTOR DA UNIDADE DE ENSINO - INSTITUTO FEDERAL DE GOI\\xc3\\x81S - CAMPUS CIDADE DE GOI\\xc3\\x81S\" value=\"1660637\">GESTOR DA UNIDADE DE ENSINO - INSTITUTO FEDERAL DE GOI\\xc3\\x81S - CAMPUS CIDADE DE GOI\\xc3\\x81S</option>\\n<option title=\"GESTOR DA UNIDADE DE ENSINO - INSTITUTO FEDERAL DE GOI\\xc3\\x81S - CAMPUS FORMOSA\" value=\"1660650\">GESTOR DA UNIDADE DE ENSINO - INSTITUTO FEDERAL DE GOI\\xc3\\x81S - CAMPUS FORMOSA</option>\\n<option title=\"GESTOR DA UNIDADE DE ENSINO - INSTITUTO FEDERAL DE GOI\\xc3\\x81S - CAMPUS GOI\\xc3\\x82NIA\" value=\"1660652\">GESTOR DA UNIDADE DE ENSINO - INSTITUTO FEDERAL DE GOI\\xc3\\x81S - CAMPUS GOI\\xc3\\x82NIA</option>\\n<option title=\"GESTOR DA UNIDADE DE ENSINO - INSTITUTO FEDERAL DE GOI\\xc3\\x81S - CAMPUS GOI\\xc3\\x82NIA OESTE\" value=\"1660653\">GESTOR DA UNIDADE DE ENSINO - INSTITUTO FEDERAL DE GOI\\xc3\\x81S - CAMPUS GOI\\xc3\\x82NIA OESTE</option>\\n<option title=\"GESTOR DA UNIDADE DE ENSINO - INSTITUTO FEDERAL DE GOI\\xc3\\x81S - CAMPUS INHUMAS\" value=\"1660662\">GESTOR DA UNIDADE DE ENSINO - INSTITUTO FEDERAL DE GOI\\xc3\\x81S - CAMPUS INHUMAS</option>\\n<option title=\"GESTOR DA UNIDADE DE ENSINO - INSTITUTO FEDERAL DE GOI\\xc3\\x81S - CAMPUS ITUMBIARA\" value=\"1660663\">GESTOR DA UNIDADE DE ENSINO - INSTITUTO FEDERAL DE GOI\\xc3\\x81S - CAMPUS ITUMBIARA</option>\\n<option title=\"GESTOR DA UNIDADE DE ENSINO - INSTITUTO FEDERAL DE GOI\\xc3\\x81S - CAMPUS JATA\\xc3\\x8d\" value=\"1660664\">GESTOR DA UNIDADE DE ENSINO - INSTITUTO FEDERAL DE GOI\\xc3\\x81S - CAMPUS JATA\\xc3\\x8d</option>\\n<option title=\"GESTOR DA UNIDADE DE ENSINO - INSTITUTO FEDERAL DE GOI\\xc3\\x81S - CAMPUS LUZI\\xc3\\x82NIA\" value=\"1660666\">GESTOR DA UNIDADE DE ENSINO - INSTITUTO FEDERAL DE GOI\\xc3\\x81S - CAMPUS LUZI\\xc3\\x82NIA</option>\\n<option title=\"GESTOR DA UNIDADE DE ENSINO - INSTITUTO FEDERAL DE GOI\\xc3\\x81S - CAMPUS SENADOR CANEDO\" value=\"1662833\">GESTOR DA UNIDADE DE ENSINO - INSTITUTO FEDERAL DE GOI\\xc3\\x81S - CAMPUS SENADOR CANEDO</option>\\n<option title=\"GESTOR DA UNIDADE DE ENSINO - INSTITUTO FEDERAL DE GOI\\xc3\\x81S - CAMPUS URUA\\xc3\\x87U\" value=\"1660667\">GESTOR DA UNIDADE DE ENSINO - INSTITUTO FEDERAL DE GOI\\xc3\\x81S - CAMPUS URUA\\xc3\\x87U</option>\\n<option title=\"GESTOR DA UNIDADE DE ENSINO - INSTITUTO FEDERAL DE GOI\\xc3\\x81S - CAMPUS VALPARA\\xc3\\x8dSO DE GOI\\xc3\\x81S\" value=\"1660669\">GESTOR DA UNIDADE DE ENSINO - INSTITUTO FEDERAL DE GOI\\xc3\\x81S - CAMPUS VALPARA\\xc3\\x8dSO DE GOI\\xc3\\x81S</option>\\n<option title=\"GESTOR DA UNIDADE DE ENSINO - INSTITUTO FEDERAL DE GOI\\xc3\\x81S CAMPUS \\xc3\\x81GUAS LINDAS DE GOI\\xc3\\x81S\" value=\"1660670\">GESTOR DA UNIDADE DE ENSINO - INSTITUTO FEDERAL DE GOI\\xc3\\x81S CAMPUS \\xc3\\x81GUAS LINDAS DE GOI\\xc3\\x81S</option>\\n\\n\\t\\t\\t\\t</select>'\n"
     ]
    }
   ],
   "source": [
    "print(b)"
   ]
  },
  {
   "cell_type": "code",
   "execution_count": 38,
   "id": "6e38c434-e40a-45c5-9ecd-a6c16e9bceeb",
   "metadata": {},
   "outputs": [
    {
     "data": {
      "text/plain": [
       "2922"
      ]
     },
     "execution_count": 38,
     "metadata": {},
     "output_type": "execute_result"
    }
   ],
   "source": [
    "f.write(b)"
   ]
  },
  {
   "cell_type": "code",
   "execution_count": 39,
   "id": "4a91e7fd-7c3f-42be-aaf1-d6bd69cfbaf8",
   "metadata": {},
   "outputs": [],
   "source": [
    "f.close()"
   ]
  },
  {
   "cell_type": "code",
   "execution_count": 40,
   "id": "2af008f3-f7e8-4fcc-810b-1a1a3c12b2f7",
   "metadata": {},
   "outputs": [],
   "source": [
    "import json"
   ]
  },
  {
   "cell_type": "code",
   "execution_count": 42,
   "id": "98034e7b-16b3-4925-98df-136bc7206dbc",
   "metadata": {},
   "outputs": [],
   "source": [
    "c = json.dumps(cookie_phpsessid)"
   ]
  },
  {
   "cell_type": "code",
   "execution_count": 43,
   "id": "18380005-6ed0-4cee-b343-219d447b564b",
   "metadata": {},
   "outputs": [
    {
     "data": {
      "text/plain": [
       "str"
      ]
     },
     "execution_count": 43,
     "metadata": {},
     "output_type": "execute_result"
    }
   ],
   "source": [
    "type(c)"
   ]
  },
  {
   "cell_type": "code",
   "execution_count": 44,
   "id": "53d03e3c-5cf1-4801-8b89-50a27b752821",
   "metadata": {},
   "outputs": [
    {
     "name": "stdout",
     "output_type": "stream",
     "text": [
      "{\"name\": \"PHPSESSID\", \"value\": \"b6nq542tletja17mo6kr47qtaied0413\", \"path\": \"/\", \"domain\": \"sistec.mec.gov.br\", \"secure\": false, \"httpOnly\": false, \"sameSite\": \"None\"}\n"
     ]
    }
   ],
   "source": [
    "print(c)"
   ]
  },
  {
   "cell_type": "code",
   "execution_count": 45,
   "id": "e14390a3-460e-44f8-adc5-2f2cc0a9e2d9",
   "metadata": {},
   "outputs": [],
   "source": [
    "d = []\n",
    "d.append(c)"
   ]
  },
  {
   "cell_type": "code",
   "execution_count": 46,
   "id": "204f4dff-4863-4b95-adf4-ebf449dd2566",
   "metadata": {},
   "outputs": [
    {
     "data": {
      "text/plain": [
       "list"
      ]
     },
     "execution_count": 46,
     "metadata": {},
     "output_type": "execute_result"
    }
   ],
   "source": [
    "type(d)"
   ]
  },
  {
   "cell_type": "code",
   "execution_count": 48,
   "id": "2468ba4a-6b6a-4623-ade8-130eae6eb41e",
   "metadata": {},
   "outputs": [
    {
     "name": "stdout",
     "output_type": "stream",
     "text": [
      "{\"name\": \"PHPSESSID\", \"value\": \"b6nq542tletja17mo6kr47qtaied0413\", \"path\": \"/\", \"domain\": \"sistec.mec.gov.br\", \"secure\": false, \"httpOnly\": false, \"sameSite\": \"None\"}\n"
     ]
    }
   ],
   "source": [
    "print(d[0])"
   ]
  },
  {
   "cell_type": "code",
   "execution_count": 49,
   "id": "841e8035-e243-458c-8d3f-2ee3bd72a70a",
   "metadata": {},
   "outputs": [
    {
     "name": "stdout",
     "output_type": "stream",
     "text": [
      "['{\"name\": \"PHPSESSID\", \"value\": \"b6nq542tletja17mo6kr47qtaied0413\", \"path\": \"/\", \"domain\": \"sistec.mec.gov.br\", \"secure\": false, \"httpOnly\": false, \"sameSite\": \"None\"}']\n"
     ]
    }
   ],
   "source": [
    "print(d)"
   ]
  },
  {
   "cell_type": "code",
   "execution_count": 50,
   "id": "885ae616-0393-4171-9787-addcf7856c64",
   "metadata": {},
   "outputs": [],
   "source": [
    "f = open('/home/joaomanoel/temp/cookies.json', 'wb')"
   ]
  },
  {
   "cell_type": "code",
   "execution_count": 55,
   "id": "ee3cf849-51b6-457c-a538-720bf9cc0224",
   "metadata": {},
   "outputs": [],
   "source": [
    "j = json.dumps(cookie_phpsessid, indent=4)"
   ]
  },
  {
   "cell_type": "code",
   "execution_count": 56,
   "id": "a3431df0-9cef-4847-ba3f-56b0b554023a",
   "metadata": {},
   "outputs": [
    {
     "name": "stdout",
     "output_type": "stream",
     "text": [
      "{\n",
      "    \"name\": \"PHPSESSID\",\n",
      "    \"value\": \"b6nq542tletja17mo6kr47qtaied0413\",\n",
      "    \"path\": \"/\",\n",
      "    \"domain\": \"sistec.mec.gov.br\",\n",
      "    \"secure\": false,\n",
      "    \"httpOnly\": false,\n",
      "    \"sameSite\": \"None\"\n",
      "}\n"
     ]
    }
   ],
   "source": [
    "print(j)"
   ]
  },
  {
   "cell_type": "code",
   "execution_count": 57,
   "id": "dda1273c-66f4-4a3e-98e2-3adf3581845d",
   "metadata": {},
   "outputs": [
    {
     "data": {
      "text/plain": [
       "'{\\n    \"name\": \"PHPSESSID\",\\n    \"value\": \"b6nq542tletja17mo6kr47qtaied0413\",\\n    \"path\": \"/\",\\n    \"domain\": \"sistec.mec.gov.br\",\\n    \"secure\": false,\\n    \"httpOnly\": false,\\n    \"sameSite\": \"None\"\\n}'"
      ]
     },
     "execution_count": 57,
     "metadata": {},
     "output_type": "execute_result"
    }
   ],
   "source": [
    "j"
   ]
  },
  {
   "cell_type": "code",
   "execution_count": 58,
   "id": "78ca4a9e-600c-4929-8b0c-aa45a1b4e5aa",
   "metadata": {},
   "outputs": [],
   "source": [
    "d = []\n",
    "d.append(j)"
   ]
  },
  {
   "cell_type": "code",
   "execution_count": 59,
   "id": "07f521eb-eb8c-4102-9460-ceb6726ed251",
   "metadata": {},
   "outputs": [
    {
     "data": {
      "text/plain": [
       "['{\\n    \"name\": \"PHPSESSID\",\\n    \"value\": \"b6nq542tletja17mo6kr47qtaied0413\",\\n    \"path\": \"/\",\\n    \"domain\": \"sistec.mec.gov.br\",\\n    \"secure\": false,\\n    \"httpOnly\": false,\\n    \"sameSite\": \"None\"\\n}']"
      ]
     },
     "execution_count": 59,
     "metadata": {},
     "output_type": "execute_result"
    }
   ],
   "source": [
    "d"
   ]
  },
  {
   "cell_type": "code",
   "execution_count": 61,
   "id": "6a6d3410-cde6-4eb2-b392-c064269a6211",
   "metadata": {},
   "outputs": [
    {
     "name": "stdout",
     "output_type": "stream",
     "text": [
      "{\n",
      "    \"name\": \"PHPSESSID\",\n",
      "    \"value\": \"b6nq542tletja17mo6kr47qtaied0413\",\n",
      "    \"path\": \"/\",\n",
      "    \"domain\": \"sistec.mec.gov.br\",\n",
      "    \"secure\": false,\n",
      "    \"httpOnly\": false,\n",
      "    \"sameSite\": \"None\"\n",
      "}\n"
     ]
    }
   ],
   "source": [
    "print(d[0])"
   ]
  },
  {
   "cell_type": "code",
   "execution_count": 64,
   "id": "ee8a47a0-1a5b-4d46-a6e8-3cefbf784cf7",
   "metadata": {},
   "outputs": [],
   "source": [
    "j1 = {\"name\": \"teste\", \"value\": 1}\n",
    "j1 = json.dumps(j1, indent=4)"
   ]
  },
  {
   "cell_type": "code",
   "execution_count": 65,
   "id": "1e00d1b6-6f56-4237-9cf5-e1e93a006c18",
   "metadata": {},
   "outputs": [
    {
     "name": "stdout",
     "output_type": "stream",
     "text": [
      "{\n",
      "    \"name\": \"teste\",\n",
      "    \"value\": 1\n",
      "}\n"
     ]
    }
   ],
   "source": [
    "print(j1)"
   ]
  },
  {
   "cell_type": "code",
   "execution_count": 66,
   "id": "4dd240db-c695-4a6d-bf2a-5a01c505f956",
   "metadata": {},
   "outputs": [],
   "source": [
    "j0 = j"
   ]
  },
  {
   "cell_type": "code",
   "execution_count": 67,
   "id": "4ee220cd-c70b-4c06-8e6c-d7fb0e1e602b",
   "metadata": {},
   "outputs": [
    {
     "name": "stdout",
     "output_type": "stream",
     "text": [
      "['{\\n    \"name\": \"PHPSESSID\",\\n    \"value\": \"b6nq542tletja17mo6kr47qtaied0413\",\\n    \"path\": \"/\",\\n    \"domain\": \"sistec.mec.gov.br\",\\n    \"secure\": false,\\n    \"httpOnly\": false,\\n    \"sameSite\": \"None\"\\n}', '{\\n    \"name\": \"teste\",\\n    \"value\": 1\\n}']\n"
     ]
    }
   ],
   "source": [
    "j = []\n",
    "j.append(j0)\n",
    "j.append(j1)\n",
    "print(j)"
   ]
  },
  {
   "cell_type": "code",
   "execution_count": 68,
   "id": "cf6448e0-8d8c-4dd5-a631-45855ad565f2",
   "metadata": {},
   "outputs": [
    {
     "name": "stdout",
     "output_type": "stream",
     "text": [
      "{\n",
      "    \"name\": \"PHPSESSID\",\n",
      "    \"value\": \"b6nq542tletja17mo6kr47qtaied0413\",\n",
      "    \"path\": \"/\",\n",
      "    \"domain\": \"sistec.mec.gov.br\",\n",
      "    \"secure\": false,\n",
      "    \"httpOnly\": false,\n",
      "    \"sameSite\": \"None\"\n",
      "}\n"
     ]
    }
   ],
   "source": [
    "print(j[0])"
   ]
  },
  {
   "cell_type": "code",
   "execution_count": 69,
   "id": "429edb10-5bab-4642-b1df-9de2a5e40579",
   "metadata": {},
   "outputs": [
    {
     "name": "stdout",
     "output_type": "stream",
     "text": [
      "{\n",
      "    \"name\": \"teste\",\n",
      "    \"value\": 1\n",
      "}\n"
     ]
    }
   ],
   "source": [
    "print(j[1])"
   ]
  },
  {
   "cell_type": "code",
   "execution_count": 80,
   "id": "17eedb1e-fc2e-48b8-9a3e-7b68c8101a03",
   "metadata": {},
   "outputs": [],
   "source": [
    "z = ',\\n'.join(j)"
   ]
  },
  {
   "cell_type": "code",
   "execution_count": 81,
   "id": "68ee91c8-3588-4d18-b3cf-0b792e3ef6de",
   "metadata": {},
   "outputs": [],
   "source": [
    "z = '[\\n%s\\n]' % z"
   ]
  },
  {
   "cell_type": "code",
   "execution_count": 82,
   "id": "4d1051d4-968c-416e-aa6c-a3f64e94bd4b",
   "metadata": {},
   "outputs": [
    {
     "name": "stdout",
     "output_type": "stream",
     "text": [
      "[\n",
      "{\n",
      "    \"name\": \"PHPSESSID\",\n",
      "    \"value\": \"b6nq542tletja17mo6kr47qtaied0413\",\n",
      "    \"path\": \"/\",\n",
      "    \"domain\": \"sistec.mec.gov.br\",\n",
      "    \"secure\": false,\n",
      "    \"httpOnly\": false,\n",
      "    \"sameSite\": \"None\"\n",
      "},\n",
      "{\n",
      "    \"name\": \"teste\",\n",
      "    \"value\": 1\n",
      "}\n",
      "]\n"
     ]
    }
   ],
   "source": [
    "print(z)"
   ]
  },
  {
   "cell_type": "code",
   "execution_count": 84,
   "id": "ded41472-3738-4376-b835-f87429f4391a",
   "metadata": {},
   "outputs": [],
   "source": [
    "z = z.encode('utf-8')"
   ]
  },
  {
   "cell_type": "code",
   "execution_count": 85,
   "id": "6d7acffb-05fa-4c27-83b0-a7603f24138d",
   "metadata": {},
   "outputs": [],
   "source": [
    "f.write(z)\n",
    "f.close()"
   ]
  },
  {
   "cell_type": "code",
   "execution_count": null,
   "id": "d2db6c7f-025b-4638-911f-92de0420dafa",
   "metadata": {},
   "outputs": [],
   "source": []
  }
 ],
 "metadata": {
  "kernelspec": {
   "display_name": "Python 3 (ipykernel)",
   "language": "python",
   "name": "python3"
  },
  "language_info": {
   "codemirror_mode": {
    "name": "ipython",
    "version": 3
   },
   "file_extension": ".py",
   "mimetype": "text/x-python",
   "name": "python",
   "nbconvert_exporter": "python",
   "pygments_lexer": "ipython3",
   "version": "3.9.9"
  }
 },
 "nbformat": 4,
 "nbformat_minor": 5
}
